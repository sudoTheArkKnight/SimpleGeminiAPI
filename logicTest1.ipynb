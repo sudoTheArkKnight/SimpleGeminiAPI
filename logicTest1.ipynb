{
 "cells": [
  {
   "cell_type": "code",
   "id": "initial_id",
   "metadata": {
    "collapsed": true,
    "ExecuteTime": {
     "end_time": "2024-10-15T00:09:13.353308Z",
     "start_time": "2024-10-15T00:09:13.335899Z"
    }
   },
   "source": "#pip install -q -U google-generativeai",
   "outputs": [],
   "execution_count": 1
  },
  {
   "metadata": {
    "ExecuteTime": {
     "end_time": "2024-10-15T00:09:14.639627Z",
     "start_time": "2024-10-15T00:09:13.390310Z"
    }
   },
   "cell_type": "code",
   "source": [
    "import google.generativeai as genai\n",
    "import os\n",
    "\n",
    "genai.configure(api_key=os.environ[\"API_KEY\"])"
   ],
   "id": "ecfce401e38e3988",
   "outputs": [
    {
     "name": "stderr",
     "output_type": "stream",
     "text": [
      "C:\\Users\\abhis\\miniconda3\\envs\\huggingFace\\lib\\site-packages\\tqdm\\auto.py:21: TqdmWarning: IProgress not found. Please update jupyter and ipywidgets. See https://ipywidgets.readthedocs.io/en/stable/user_install.html\n",
      "  from .autonotebook import tqdm as notebook_tqdm\n"
     ]
    }
   ],
   "execution_count": 2
  },
  {
   "metadata": {
    "ExecuteTime": {
     "end_time": "2024-10-15T00:10:00.695905Z",
     "start_time": "2024-10-15T00:09:57.482278Z"
    }
   },
   "cell_type": "code",
   "source": [
    "model = genai.GenerativeModel(\"gemini-1.5-flash\")\n",
    "response = model.generate_content(\"Explain databases to a machanical engineering student\")\n",
    "print(response.text)"
   ],
   "id": "775fc3e36fcdd0fe",
   "outputs": [
    {
     "name": "stdout",
     "output_type": "stream",
     "text": [
      "Imagine you're designing a car. You need to keep track of tons of information: engine specs, materials used, manufacturing details, performance data, etc. You could write it all down in notebooks, but that would be messy and difficult to manage.\n",
      "\n",
      "That's where databases come in. Think of a database as a highly organized and structured storage system for all your data. Instead of notebooks, you have digital tables, each representing a specific aspect of your car.\n",
      "\n",
      "**Here's a simplified breakdown for a mechanical engineer:**\n",
      "\n",
      "* **Tables:** Each table holds a specific type of data. For example, one table might hold engine specifications, another for materials, and another for performance data.\n",
      "* **Rows:** Each row in a table represents a single instance of that data. For example, one row in the engine table might hold details for a specific engine model.\n",
      "* **Columns:** Each column within a table represents a specific piece of information about that data. For example, in the engine table, you might have columns for engine size, horsepower, and fuel efficiency.\n",
      "* **Relationships:** Tables can be linked together based on common information. For example, you could link the engine table to the car model table based on the engine model number.\n",
      "\n",
      "**Why are databases important for mechanical engineering?**\n",
      "\n",
      "* **Organization and Efficiency:** Databases help you store and retrieve information quickly and efficiently, saving you time and effort.\n",
      "* **Data Analysis:** You can use databases to analyze data and generate reports, helping you make informed decisions about your designs.\n",
      "* **Collaboration:** Multiple engineers can access and share data in a secure and controlled way, improving teamwork.\n",
      "* **Tracking and Traceability:** Databases allow you to track the history of your designs, making it easier to manage changes and identify potential issues.\n",
      "\n",
      "**Examples of database applications in mechanical engineering:**\n",
      "\n",
      "* **CAD/CAM systems:** Store design data and manufacturing instructions.\n",
      "* **Product lifecycle management (PLM):** Track the entire life cycle of a product, from design to production to disposal.\n",
      "* **Simulation software:** Store data for simulations and analysis.\n",
      "* **Inventory management:** Track materials and components.\n",
      "\n",
      "**In short, databases are essential tools for mechanical engineers to efficiently organize, analyze, and share crucial data, leading to better designs, improved collaboration, and enhanced decision-making.**\n",
      "\n"
     ]
    }
   ],
   "execution_count": 3
  },
  {
   "metadata": {},
   "cell_type": "code",
   "outputs": [],
   "execution_count": null,
   "source": "",
   "id": "e79c28309b9b7c17"
  }
 ],
 "metadata": {
  "kernelspec": {
   "display_name": "Python 3",
   "language": "python",
   "name": "python3"
  },
  "language_info": {
   "codemirror_mode": {
    "name": "ipython",
    "version": 2
   },
   "file_extension": ".py",
   "mimetype": "text/x-python",
   "name": "python",
   "nbconvert_exporter": "python",
   "pygments_lexer": "ipython2",
   "version": "2.7.6"
  }
 },
 "nbformat": 4,
 "nbformat_minor": 5
}
